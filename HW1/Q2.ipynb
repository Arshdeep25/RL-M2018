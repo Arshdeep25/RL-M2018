{
 "cells": [
  {
   "cell_type": "code",
   "execution_count": 60,
   "metadata": {},
   "outputs": [],
   "source": [
    "import numpy as np\n",
    "import random\n",
    "import matplotlib.pyplot as plt\n",
    "import time"
   ]
  },
  {
   "cell_type": "code",
   "execution_count": 61,
   "metadata": {},
   "outputs": [],
   "source": [
    "# K : K Armed Bandit\n",
    "K = 10\n",
    "# stepSize : Number of Steps\n",
    "stepSize = 1000\n",
    "#alpha : constant value of step size\n",
    "alpha = 0.1\n",
    "#Runs : Number of runs\n",
    "Runs = 2000"
   ]
  },
  {
   "cell_type": "code",
   "execution_count": 64,
   "metadata": {},
   "outputs": [],
   "source": [
    "def returnRewardTimeStepMean(estimatedValueFunctionOriginal, epsilon, nonStationary, meanAverage):\n",
    "    \n",
    "    currentTime = time.time()\n",
    "    rewardTimeStep = np.zeros(stepSize)\n",
    "    optimalActionStep = np.zeros(stepSize)\n",
    "    for runs in range(Runs):\n",
    "        trueValueFunction = np.random.randn(K)\n",
    "        estimatedValueFunction = np.copy(estimatedValueFunctionOriginal)\n",
    "        alphaAction = np.zeros(K)\n",
    "        for i in range(stepSize):\n",
    "            epsilonProbability = random.uniform(0,1)\n",
    "            \n",
    "           \n",
    "            if epsilonProbability >= epsilon :\n",
    "                actionIndex = np.argmax(estimatedValueFunction)\n",
    "            else :\n",
    "                actionIndex = random.randint(0,K-1)\n",
    "                \n",
    "                \n",
    "            mean, sigma = trueValueFunction[actionIndex], 1\n",
    "            actionReward = np.random.normal(mean, sigma, 1)\n",
    "            \n",
    "            bestTrueAction = np.argmax(trueValueFunction)\n",
    "            if actionIndex == bestTrueAction:\n",
    "                optimalActionStep[i] += 1\n",
    "            \n",
    "            rewardTimeStep[i] += actionReward\n",
    "            \n",
    "            alphaAction[actionIndex] += 1\n",
    "            \n",
    "            if meanAverage == True:\n",
    "                constant = 1/alphaAction[actionIndex]\n",
    "            else:\n",
    "                constant = alpha\n",
    "                \n",
    "            estimatedValueFunction[actionIndex] += constant*(actionReward - estimatedValueFunction[actionIndex])\n",
    "        \n",
    "            if nonStationary == True:\n",
    "                incrementalUpdate = np.random.normal(0,0.01,10)\n",
    "                trueValueFunction += incrementalUpdate\n",
    "    \n",
    "    rewardTimeStepMean = rewardTimeStep/Runs\n",
    "    optimalActionStep /= Runs\n",
    "    optimalActionStep *= 100\n",
    "\n",
    "    print(\"Time taken : \", time.time() - currentTime)\n",
    "    return rewardTimeStepMean, optimalActionStep"
   ]
  },
  {
   "cell_type": "markdown",
   "metadata": {},
   "source": [
    "## <span style='color:Black'> Stationary Problem Optimistic </span>"
   ]
  },
  {
   "cell_type": "code",
   "execution_count": 65,
   "metadata": {},
   "outputs": [
    {
     "name": "stdout",
     "output_type": "stream",
     "text": [
      "Time taken :  41.48854303359985\n"
     ]
    }
   ],
   "source": [
    "estimatedValueFunction = np.zeros(K) + 5\n",
    "nonStationary = False\n",
    "epsilon = 0\n",
    "meanAverage = False\n",
    "rewardTimeStepMean_1, optimalActionStep_1 = returnRewardTimeStepMean(estimatedValueFunction, epsilon, nonStationary, meanAverage)"
   ]
  },
  {
   "cell_type": "markdown",
   "metadata": {},
   "source": [
    "## <span style='color:Black'> Stationary Problem Epsilon Greedy </span>"
   ]
  },
  {
   "cell_type": "code",
   "execution_count": 66,
   "metadata": {},
   "outputs": [
    {
     "name": "stdout",
     "output_type": "stream",
     "text": [
      "Time taken :  43.28706407546997\n"
     ]
    }
   ],
   "source": [
    "# trueValueFunction = np.random.randn(K)\n",
    "estimatedValueFunction = np.zeros(K)\n",
    "nonStationary = False\n",
    "epsilon = 0.1\n",
    "meanAverage = False\n",
    "rewardTimeStepMean_2, optimalActionStep_2 = returnRewardTimeStepMean(estimatedValueFunction, epsilon, nonStationary, meanAverage)"
   ]
  },
  {
   "cell_type": "code",
   "execution_count": 67,
   "metadata": {},
   "outputs": [
    {
     "data": {
      "image/png": "[encoded data removed]",
      "text/plain": [
       "<Figure size 432x288 with 1 Axes>"
      ]
     },
     "metadata": {
      "needs_background": "light"
     },
     "output_type": "display_data"
    }
   ],
   "source": [
    "plt.figure()\n",
    "plt.title(\"Stationary Problem\")\n",
    "plt.ylabel(\"Optimal Actions\")\n",
    "plt.plot(optimalActionStep_1, 'r', label='Optimistic')\n",
    "plt.plot(optimalActionStep_2, 'b', label='E greedy')\n",
    "plt.legend(loc='lower right')\n",
    "plt.show()"
   ]
  },
  {
   "cell_type": "markdown",
   "metadata": {},
   "source": [
    "## <span style='color:Black'> Non Stationary Problem Optimistic </span>"
   ]
  },
  {
   "cell_type": "code",
   "execution_count": 68,
   "metadata": {},
   "outputs": [
    {
     "name": "stdout",
     "output_type": "stream",
     "text": [
      "Time taken :  59.805016040802\n"
     ]
    }
   ],
   "source": [
    "# trueValueFunction = np.random.randn(K)\n",
    "estimatedValueFunction = np.zeros(K) + 5\n",
    "nonStationary = True\n",
    "epsilon = 0\n",
    "meanAverage = False\n",
    "rewardTimeStepMean_3, optimalActionStep_3 = returnRewardTimeStepMean(estimatedValueFunction, epsilon, nonStationary, meanAverage)"
   ]
  },
  {
   "cell_type": "markdown",
   "metadata": {},
   "source": [
    "## <span style='color:Black'> Non Stationary Problem Epsilon Greedy </span>"
   ]
  },
  {
   "cell_type": "code",
   "execution_count": 69,
   "metadata": {},
   "outputs": [
    {
     "name": "stdout",
     "output_type": "stream",
     "text": [
      "Time taken :  66.35066795349121\n"
     ]
    }
   ],
   "source": [
    "# trueValueFunction = np.random.randn(K)\n",
    "estimatedValueFunction = np.zeros(K)\n",
    "nonStationary = True\n",
    "epsilon = 0.1\n",
    "meanAverage = False\n",
    "rewardTimeStepMean_4, optimalActionStep_4 = returnRewardTimeStepMean(estimatedValueFunction, epsilon, nonStationary, meanAverage)"
   ]
  },
  {
   "cell_type": "code",
   "execution_count": 70,
   "metadata": {},
   "outputs": [
    {
     "data": {
      "image/png": "[encoded data removed]",
      "text/plain": [
       "<Figure size 432x288 with 1 Axes>"
      ]
     },
     "metadata": {
      "needs_background": "light"
     },
     "output_type": "display_data"
    }
   ],
   "source": [
    "plt.figure()\n",
    "plt.title(\"Non Stationary\")\n",
    "plt.ylabel(\"Optimal Action\")\n",
    "plt.plot(optimalActionStep_3, 'r', label='Optimistic')\n",
    "plt.plot(optimalActionStep_4, 'b', label='E greedy')\n",
    "plt.legend(loc='lower right')\n",
    "plt.show()"
   ]
  },
  {
   "cell_type": "code",
   "execution_count": null,
   "metadata": {},
   "outputs": [],
   "source": []
  }
 ],
 "metadata": {
  "kernelspec": {
   "display_name": "Python 3",
   "language": "python",
   "name": "python3"
  },
  "language_info": {
   "codemirror_mode": {
    "name": "ipython",
    "version": 3
   },
   "file_extension": ".py",
   "mimetype": "text/x-python",
   "name": "python",
   "nbconvert_exporter": "python",
   "pygments_lexer": "ipython3",
   "version": "3.7.2"
  }
 },
 "nbformat": 4,
 "nbformat_minor": 2
}
