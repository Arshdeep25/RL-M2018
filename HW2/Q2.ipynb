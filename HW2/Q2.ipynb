{
 "cells": [
  {
   "cell_type": "code",
   "execution_count": null,
   "metadata": {},
   "outputs": [],
   "source": [
    "import numpy as np"
   ]
  },
  {
   "cell_type": "code",
   "execution_count": null,
   "metadata": {},
   "outputs": [],
   "source": [
    "'''\n",
    "Our goal is to solve the following system of linear equations\n",
    "v(s) = Σ rP[r|s] + gamma*Σv(s')P[s'|s]\n",
    "The first summation is over R and second is over S\n",
    "\n",
    "It can be simplified to get,\n",
    "v(s) = np.matmul(np.inverse((I - gamma*P[s'|s])) , Σ rP[r|s])\n",
    "\n",
    "where v(s) is 25 X 1 matrix\n",
    "Σ rP[r|s] is 25 X 1 matrix\n",
    "I - gamma*P[s'|s] is 25X25 matrix\n",
    "'''"
   ]
  },
  {
   "cell_type": "code",
   "execution_count": null,
   "metadata": {},
   "outputs": [],
   "source": [
    "'''\n",
    "stateValueMatrix - Represents the state value function for the 25 states (5X5) with i,j state stored in i*5+j index\n",
    "expectedRewardMatrix - Represents the expected reward given a state\n",
    "transitionProbMatrix - Represents the probability of going from one state to another\n",
    "'''\n",
    "stateValueMatrix = np.zeros(25)\n",
    "expectedRewardMatrix = np.zeros(25)\n",
    "transitionProbMatrix = np.zeros((25,25))\n",
    "gamma = 0.9"
   ]
  },
  {
   "cell_type": "code",
   "execution_count": null,
   "metadata": {},
   "outputs": [],
   "source": [
    "'''\n",
    "This loop initialises the Expected Reward Matrix, \n",
    "For all the corner positions two actions result in reward -1 and rest in 0\n",
    "For the two special positions 0,1 and 0,3, the expected reward is 10 and 5\n",
    "For rows and columns on the boundary, there is a reward of -1 in one case and 0 in rest\n",
    "In all other coordinates, the reward is 0\n",
    "\n",
    "'''\n",
    "for i in range(5):\n",
    "    for j in range(5):\n",
    "        \n",
    "        if (i == 0 and j == 0) or (i == 4 and j == 4) or (i == 0 and j == 4) or (i == 4 and j == 0):\n",
    "            expectedRewardMatrix[i*5+j] = -2*1/4\n",
    "        elif i == 0 and j == 1:\n",
    "            expectedRewardMatrix[i*5+j] = 10\n",
    "        elif i == 0 and j == 3:\n",
    "            expectedRewardMatrix[i*5+j] = 5\n",
    "        elif i==0 or i == 4 or j == 0 or j == 4:\n",
    "            expectedRewardMatrix[i*5+j] = -1*1/4\n",
    "        else:\n",
    "            expectedRewardMatrix[i*5+j] = 0\n",
    "        \n",
    "    "
   ]
  },
  {
   "cell_type": "code",
   "execution_count": null,
   "metadata": {},
   "outputs": [],
   "source": [
    "'''\n",
    "Initialising the transition Probability matrix picking states with equal probability\n",
    "\n",
    "Example\n",
    "For state 0,0 we can go right with 1/4, bottom with 1/4 and out of the grid with 2/4 that results in the same state\n",
    "\n",
    "'''\n",
    "for i in range(5):\n",
    "    for j in range(5):\n",
    "        index = i*5+j\n",
    "        if i == 0 and j == 0:\n",
    "            transitionProbMatrix[index,(i+1)*5+j] = 1/4\n",
    "            transitionProbMatrix[index,i*5+j+1] = 1/4\n",
    "            transitionProbMatrix[index, index] = 2/4\n",
    "        elif i == 0 and j == 4:\n",
    "            transitionProbMatrix[index,(i+1)*5+j] = 1/4\n",
    "            transitionProbMatrix[index,i*5+j-1] = 1/4\n",
    "            transitionProbMatrix[index,index] = 2/4\n",
    "        elif i == 4 and j == 0:\n",
    "            transitionProbMatrix[index,(i-1)*5+j] = 1/4\n",
    "            transitionProbMatrix[index,i*5+j+1] = 1/4\n",
    "            transitionProbMatrix[index,index] = 2/4\n",
    "        elif i == 4 and j == 4:\n",
    "            transitionProbMatrix[index,(i-1)*5+j] = 1/4\n",
    "            transitionProbMatrix[index,i*5+j-1] = 1/4\n",
    "            transitionProbMatrix[index,index] = 2/4\n",
    "        elif i == 0 and j == 1:\n",
    "            transitionProbMatrix[index,(i+4)*5+j] = 1\n",
    "        elif i == 0 and j == 3:\n",
    "            transitionProbMatrix[index,(i+2)*5+j] = 1\n",
    "        elif i == 0:\n",
    "            transitionProbMatrix[index,(i+1)*5+j] = 1/4\n",
    "            transitionProbMatrix[index,i*5+j+1] = 1/4\n",
    "            transitionProbMatrix[index,i*5+j-1] = 1/4\n",
    "            transitionProbMatrix[index,index] = 1/4\n",
    "        elif i == 4:\n",
    "            transitionProbMatrix[index,(i-1)*5+j] = 1/4\n",
    "            transitionProbMatrix[index,i*5+j+1] = 1/4\n",
    "            transitionProbMatrix[index,i*5+j-1] = 1/4\n",
    "            transitionProbMatrix[index,index] = 1/4\n",
    "        elif j == 0:\n",
    "            transitionProbMatrix[index,(i+1)*5+j] = 1/4\n",
    "            transitionProbMatrix[index,(i-1)*5+j] = 1/4\n",
    "            transitionProbMatrix[index,i*5+j+1] = 1/4\n",
    "            transitionProbMatrix[index,index] = 1/4\n",
    "        elif j == 4:\n",
    "            transitionProbMatrix[index,(i+1)*5+j] = 1/4\n",
    "            transitionProbMatrix[index,(i-1)*5+j] = 1/4\n",
    "            transitionProbMatrix[index,i*5+j-1] = 1/4\n",
    "            transitionProbMatrix[index,index] = 1/4\n",
    "        else:\n",
    "            transitionProbMatrix[index,(i+1)*5+j] = 1/4\n",
    "            transitionProbMatrix[index,(i-1)*5+j] = 1/4\n",
    "            transitionProbMatrix[index,i*5+j+1] = 1/4\n",
    "            transitionProbMatrix[index,i*5+j-1] = 1/4\n",
    "        "
   ]
  },
  {
   "cell_type": "code",
   "execution_count": null,
   "metadata": {},
   "outputs": [],
   "source": [
    "identitMatrix = np.identity(25)\n",
    "stateValueMatrix = np.matmul(np.linalg.inv(identitMatrix - gamma*transitionProbMatrix), expectedRewardMatrix)"
   ]
  },
  {
   "cell_type": "code",
   "execution_count": null,
   "metadata": {},
   "outputs": [],
   "source": [
    "stateValueMatrix = np.around(stateValueMatrix, decimals=1)"
   ]
  },
  {
   "cell_type": "code",
   "execution_count": null,
   "metadata": {},
   "outputs": [],
   "source": [
    "for i in range(5):\n",
    "    for j in range(5):\n",
    "        print(stateValueMatrix[i*5+j], end=\" \")\n",
    "    print()"
   ]
  },
  {
   "cell_type": "code",
   "execution_count": null,
   "metadata": {},
   "outputs": [],
   "source": []
  }
 ],
 "metadata": {
  "kernelspec": {
   "display_name": "Python 3",
   "language": "python",
   "name": "python3"
  },
  "language_info": {
   "codemirror_mode": {
    "name": "ipython",
    "version": 3
   },
   "file_extension": ".py",
   "mimetype": "text/x-python",
   "name": "python",
   "nbconvert_exporter": "python",
   "pygments_lexer": "ipython3",
   "version": "3.7.2"
  }
 },
 "nbformat": 4,
 "nbformat_minor": 2
}
